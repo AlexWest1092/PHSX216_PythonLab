{
 "cells": [
  {
   "cell_type": "code",
   "execution_count": 14,
   "metadata": {},
   "outputs": [
    {
     "name": "stdout",
     "output_type": "stream",
     "text": [
      "0.3939692176149074\n"
     ]
    }
   ],
   "source": [
    "import numpy as np\n",
    "\n",
    "#Error Multiplied By A Number\n",
    "#Q = cA\n",
    "def rule1(c, dA):\n",
    "    dQ = np.abs(c)*dA\n",
    "    return dQ\n",
    "\n",
    "def rule1(c, dA, dB):\n",
    "    print(\"hi\")\n",
    "\n",
    "#Error with a Power (includings multiplication of a constant)\n",
    "#Q = cA^m\n",
    "def rule2(c, A, dA, m):\n",
    "    dQ = np.abs(c*m*A**(m-1))*dA\n",
    "    return dQ\n",
    "\n",
    "#Addition/Subtraction\n",
    "#Q = A + B or Q = A - B\n",
    "def rule3(dA, dB):\n",
    "    dQ = np.sqrt(dA**2 + dB**2)\n",
    "    return dQ\n",
    "\n",
    "#Multiplication between Errors (including multiplication of a constant and Powers)\n",
    "#Q = c*A^m*B^n\n",
    "def rule4(Q, A, dA, m, B, dB, n):\n",
    "    dQ = np.abs(Q)*np.sqrt((m*(dA/A))**2+(n*(dB/B))**2)\n",
    "    return dQ\n",
    "\n",
    "def rule4_3vars(Q, A, dA, m, B, dB, n, C, dC, o):\n",
    "    dQ = np.abs(Q)*np.sqrt((m*(dA/A))**2+(n*(dB/B))**2+o*(dC/C))\n",
    "    return dQ\n",
    "\n",
    "Fc = rule4_3vars(.838, .177, .01, 1, .2083, .1, 1, 1.3011, 0.008225, -2)\n",
    "print(Fc)"
   ]
  },
  {
   "cell_type": "markdown",
   "metadata": {},
   "source": [
    "Fc above is the program running to solve $\\Sigma F_{c}$ from the previous lab. I'm getting a result on here 1 magnitude higher than I did last week, but I'm fairly certain that's due to me messing up last week."
   ]
  },
  {
   "cell_type": "code",
   "execution_count": 22,
   "metadata": {},
   "outputs": [
    {
     "name": "stdout",
     "output_type": "stream",
     "text": [
      "1.1166666666666667\n",
      "0.073282810879294\n"
     ]
    }
   ],
   "source": [
    "x = [1.1, 1.3, 1.4, 0.9, 0.95, 1.05]\n",
    "x_avg = np.average(x)\n",
    "\n",
    "print(x_avg)\n",
    "\n",
    "dx = np.std(x)/np.sqrt(6)\n",
    "\n",
    "print(dx)"
   ]
  },
  {
   "cell_type": "markdown",
   "metadata": {},
   "source": [
    "This means that the error in the mean of the list is $1.1167\\pm0.0733$"
   ]
  },
  {
   "cell_type": "markdown",
   "metadata": {},
   "source": [
    "Rule 3:\n",
    "$\\delta Q = \\sqrt{\\delta A^2 + \\delta B^2}$\n",
    "\n",
    "\n",
    "Rotation Case from last Lab:\n",
    "$\\Sigma F_{c} = \\frac{4\\pi^2rm}{T^2}$\n",
    "\n",
    "$\\Sigma F_{c} = 4\\pi^2rmT^{-2}$"
   ]
  },
  {
   "cell_type": "code",
   "execution_count": null,
   "metadata": {},
   "outputs": [],
   "source": []
  }
 ],
 "metadata": {
  "kernelspec": {
   "display_name": "Python 3",
   "language": "python",
   "name": "python3"
  },
  "language_info": {
   "codemirror_mode": {
    "name": "ipython",
    "version": 3
   },
   "file_extension": ".py",
   "mimetype": "text/x-python",
   "name": "python",
   "nbconvert_exporter": "python",
   "pygments_lexer": "ipython3",
   "version": "3.7.6"
  }
 },
 "nbformat": 4,
 "nbformat_minor": 4
}
